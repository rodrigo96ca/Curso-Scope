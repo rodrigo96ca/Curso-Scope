{
  "nbformat": 4,
  "nbformat_minor": 0,
  "metadata": {
    "colab": {
      "provenance": [],
      "authorship_tag": "ABX9TyObbd4HveyaH2fGsfIs+00v",
      "include_colab_link": true
    },
    "kernelspec": {
      "name": "python3",
      "display_name": "Python 3"
    },
    "language_info": {
      "name": "python"
    }
  },
  "cells": [
    {
      "cell_type": "markdown",
      "metadata": {
        "id": "view-in-github",
        "colab_type": "text"
      },
      "source": [
        "<a href=\"https://colab.research.google.com/github/rodrigo96ca/Curso-Scope/blob/main/DataScienceEcosystem.ipynb\" target=\"_parent\"><img src=\"https://colab.research.google.com/assets/colab-badge.svg\" alt=\"Open In Colab\"/></a>"
      ]
    },
    {
      "cell_type": "markdown",
      "source": [
        "# Data Science Tools and Ecosystem\n"
      ],
      "metadata": {
        "id": "ZZUKglyhasU9"
      }
    },
    {
      "cell_type": "markdown",
      "source": [
        "In this notebook, Data Science Tools and Ecosystem are summarized.\n"
      ],
      "metadata": {
        "id": "46J2jaC8bprA"
      }
    },
    {
      "cell_type": "markdown",
      "source": [
        "<b>Objectives</b>\n",
        "\n",
        "\n",
        "*   List popular languages for data science\n",
        "*   List commonly used libraries used by data scientists\n",
        "*   List data scientist´s tools\n",
        "\n"
      ],
      "metadata": {
        "id": "ZCE9hK4oF7kJ"
      }
    },
    {
      "cell_type": "markdown",
      "source": [
        "Some of the popular languages that Data Scientists use are:\n",
        "1. Python\n",
        "2. R\n",
        "3. SQL\n",
        "4. Julia"
      ],
      "metadata": {
        "id": "eObdhvQfb6MK"
      }
    },
    {
      "cell_type": "markdown",
      "source": [
        "Some of the commonly used libraries used by Data Scientists include:\n",
        "1. Numpy\n",
        "2. Pandas\n",
        "3. Scikit-learn\n",
        "4. Tensor Flow"
      ],
      "metadata": {
        "id": "krC5UWKRdAK7"
      }
    },
    {
      "cell_type": "markdown",
      "source": [
        "# MarkDown Cell\n",
        "| Data science tools|\n",
        "--------------------\n",
        "|Jupyter  Notebooks|\n",
        "|Visual studio Code|\n",
        "|R Studio|"
      ],
      "metadata": {
        "id": "9-Rsf7sWCCqb"
      }
    },
    {
      "cell_type": "markdown",
      "source": [
        "### Below are a few examples of evaluating arithmetic expressions in Python.\n",
        "$$ a+b=5x $$\n",
        "$$\\frac{a}{b}=6x$$\n",
        "$$6x+5y=3a+6b$$"
      ],
      "metadata": {
        "id": "iS7u9YWPC0ib"
      }
    },
    {
      "cell_type": "code",
      "source": [
        "#This a simple arithmetic expression to mutiply then add integers\n",
        "(3*4)+5"
      ],
      "metadata": {
        "colab": {
          "base_uri": "https://localhost:8080/"
        },
        "id": "Iu4utZnxaetY",
        "outputId": "eedf0290-a43c-4475-eb82-7a2b605935e4"
      },
      "execution_count": 1,
      "outputs": [
        {
          "output_type": "execute_result",
          "data": {
            "text/plain": [
              "17"
            ]
          },
          "metadata": {},
          "execution_count": 1
        }
      ]
    },
    {
      "cell_type": "code",
      "source": [
        "#This will convert 200 minutes to hours by diving by 60\n",
        "minutos=200\n",
        "factor=60\n",
        "horas=minutos/factor\n",
        "print(str(horas)+\" Horas\")"
      ],
      "metadata": {
        "colab": {
          "base_uri": "https://localhost:8080/"
        },
        "id": "WTq1WExpEXJ8",
        "outputId": "c1bb35c0-33ab-4359-af76-998ba38ecbe1"
      },
      "execution_count": 7,
      "outputs": [
        {
          "output_type": "stream",
          "name": "stdout",
          "text": [
            "3.3333333333333335 Horas\n"
          ]
        }
      ]
    },
    {
      "cell_type": "markdown",
      "source": [
        "---\n",
        "## Author:\n",
        "  ###### Rodrigo Eduardo Ceballos Aguirre\n",
        "\n",
        "---"
      ],
      "metadata": {
        "id": "Cox3raVAHBby"
      }
    },
    {
      "cell_type": "code",
      "source": [],
      "metadata": {
        "id": "GvkiLcMbE1g1"
      },
      "execution_count": null,
      "outputs": []
    }
  ]
}